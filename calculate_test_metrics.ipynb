{
 "cells": [
  {
   "cell_type": "code",
   "execution_count": 1,
   "metadata": {},
   "outputs": [],
   "source": [
    "import time\n",
    "\n",
    "import torch\n",
    "from sklearn.metrics import (\n",
    "    ConfusionMatrixDisplay,\n",
    "    accuracy_score,\n",
    "    confusion_matrix,\n",
    "    f1_score,\n",
    ")\n",
    "\n",
    "import load_dataset\n",
    "from load_dataset import add_label_id\n",
    "from models import T5EncoderClassifier"
   ]
  },
  {
   "cell_type": "code",
   "execution_count": 12,
   "metadata": {},
   "outputs": [
    {
     "name": "stdout",
     "output_type": "stream",
     "text": [
      "Using device: cpu\n"
     ]
    }
   ],
   "source": [
    "device = torch.device(\"cuda\" if torch.cuda.is_available() else \"cpu\")\n",
    "print(\"Using device:\", device)\n",
    "device = \"mps\"\n",
    "model = torch.load(\"./t5_results/transformer/model/model.pt\", map_location=device)"
   ]
  },
  {
   "cell_type": "code",
   "execution_count": 13,
   "metadata": {},
   "outputs": [],
   "source": [
    "simplified_labels = [\n",
    "    \"Web\",\n",
    "    \"International\",\n",
    "    \"Etat\",\n",
    "    \"Wirtschaft\",\n",
    "    \"Panorama\",\n",
    "    \"Sport\",\n",
    "    \"Wissenschaft\",\n",
    "    \"Kultur\",\n",
    "    \"Heimat\",\n",
    "]\n",
    "decoder_attentionmask = [1 for _ in range(len(load_dataset.label_to_id))]\n",
    "decoder_inputs = [\n",
    "    model.tokenizer(simplified_label).input_ids[0]\n",
    "    for simplified_label in simplified_labels\n",
    "]\n",
    "\n",
    "\n",
    "def tokenize_function(examples):\n",
    "    if model.is_transformer:\n",
    "        input_tokenized = model.tokenizer(\n",
    "            examples[\"text\"], padding=\"max_length\", max_length=512, truncation=True\n",
    "        )\n",
    "        return {\n",
    "            \"input_ids\": input_tokenized.input_ids,\n",
    "            \"input_attention_mask\": input_tokenized.attention_mask,\n",
    "            \"decoder_ids\": decoder_inputs,\n",
    "            \"decoder_attention_mask\": decoder_attentionmask,\n",
    "        }\n",
    "    else:\n",
    "        if type(model) == T5EncoderClassifier:\n",
    "            return model.tokenizer(\n",
    "                examples[\"text\"], padding=\"max_length\", max_length=512, truncation=True\n",
    "            )\n",
    "        else:\n",
    "            return model.tokenizer(\n",
    "                examples[\"text\"], padding=\"max_length\", truncation=True\n",
    "            )"
   ]
  },
  {
   "cell_type": "code",
   "execution_count": 14,
   "metadata": {},
   "outputs": [],
   "source": [
    "_, test_ds = load_dataset.load_dataset(\n",
    "    \"../German_newspaper_articles/10kGNAD/train.csv\",\n",
    "    \"../German_newspaper_articles/10kGNAD/test.csv\",\n",
    ")"
   ]
  },
  {
   "cell_type": "code",
   "execution_count": 15,
   "metadata": {},
   "outputs": [
    {
     "data": {
      "application/vnd.jupyter.widget-view+json": {
       "model_id": "d709c906c9274f6ab42c3fcde855f32d",
       "version_major": 2,
       "version_minor": 0
      },
      "text/plain": [
       "Map:   0%|          | 0/1028 [00:00<?, ? examples/s]"
      ]
     },
     "metadata": {},
     "output_type": "display_data"
    }
   ],
   "source": [
    "test_ds = test_ds.map(tokenize_function)"
   ]
  },
  {
   "cell_type": "code",
   "execution_count": 16,
   "metadata": {},
   "outputs": [
    {
     "data": {
      "application/vnd.jupyter.widget-view+json": {
       "model_id": "962bffe146fc40d7af0702323db22df3",
       "version_major": 2,
       "version_minor": 0
      },
      "text/plain": [
       "Map:   0%|          | 0/1028 [00:00<?, ? examples/s]"
      ]
     },
     "metadata": {},
     "output_type": "display_data"
    }
   ],
   "source": [
    "test_ds = test_ds.map(add_label_id)"
   ]
  },
  {
   "cell_type": "code",
   "execution_count": 17,
   "metadata": {},
   "outputs": [],
   "source": [
    "y_true = []\n",
    "y_pred = []\n",
    "wrong = []\n",
    "\n",
    "\n",
    "def test():\n",
    "    model.eval()\n",
    "    test_ds.set_format(\"torch\", device=device)\n",
    "    start_time = time.perf_counter()\n",
    "    for data in test_ds:\n",
    "        label_id = torch.unsqueeze(data[\"label_id\"], 0)\n",
    "        if model.is_transformer:\n",
    "            output = model(\n",
    "                torch.unsqueeze(data[\"input_ids\"], 0),\n",
    "                torch.unsqueeze(data[\"input_attention_mask\"], 0),\n",
    "                torch.unsqueeze(data[\"decoder_ids\"], 0),\n",
    "                torch.unsqueeze(data[\"decoder_attention_mask\"], 0),\n",
    "            )\n",
    "        else:\n",
    "            output = model(\n",
    "                torch.unsqueeze(data[\"input_ids\"], 0),\n",
    "                torch.unsqueeze(data[\"attention_mask\"], 0),\n",
    "            )\n",
    "        output = torch.argmax(output)\n",
    "        global y_true\n",
    "        global y_pred\n",
    "        y_true.append(load_dataset.id_to_label[label_id.item()])\n",
    "        y_pred.append(load_dataset.id_to_label[output.item()])\n",
    "\n",
    "        if label_id.item() is not output.item():\n",
    "            global wrong\n",
    "            item = {\n",
    "                \"text\": data[\"text\"],\n",
    "                \"prediction\": load_dataset.id_to_label[output.item()],\n",
    "                \"label\": data[\"label\"],\n",
    "            }\n",
    "            wrong.append(item)\n",
    "    end_time = time.perf_counter()\n",
    "    print(f\"Test took {(end_time - start_time)/60:0.4f} minutes\")"
   ]
  },
  {
   "cell_type": "code",
   "execution_count": 18,
   "metadata": {},
   "outputs": [
    {
     "name": "stdout",
     "output_type": "stream",
     "text": [
      "Test took 1.2296 minutes\n"
     ]
    }
   ],
   "source": [
    "test()"
   ]
  },
  {
   "cell_type": "code",
   "execution_count": 19,
   "metadata": {},
   "outputs": [
    {
     "data": {
      "text/plain": [
       "<sklearn.metrics._plot.confusion_matrix.ConfusionMatrixDisplay at 0x309de9a10>"
      ]
     },
     "execution_count": 19,
     "metadata": {},
     "output_type": "execute_result"
    },
    {
     "data": {
      "image/png": "[encoded data removed]",
      "text/plain": [
       "<Figure size 640x480 with 2 Axes>"
      ]
     },
     "metadata": {},
     "output_type": "display_data"
    }
   ],
   "source": [
    "cm = confusion_matrix(\n",
    "    y_true,\n",
    "    y_pred,\n",
    "    labels=[\n",
    "        \"Web\",\n",
    "        \"International\",\n",
    "        \"Etat\",\n",
    "        \"Wirtschaft\",\n",
    "        \"Panorama\",\n",
    "        \"Sport\",\n",
    "        \"Wissenschaft\",\n",
    "        \"Kultur\",\n",
    "        \"Inland\",\n",
    "    ],\n",
    ")\n",
    "disp = ConfusionMatrixDisplay(confusion_matrix=cm)\n",
    "disp.plot()"
   ]
  },
  {
   "cell_type": "code",
   "execution_count": 10,
   "metadata": {},
   "outputs": [
    {
     "data": {
      "text/plain": [
       "0.9027237354085603"
      ]
     },
     "execution_count": 10,
     "metadata": {},
     "output_type": "execute_result"
    }
   ],
   "source": [
    "accuracy_score(y_true, y_pred)"
   ]
  },
  {
   "cell_type": "code",
   "execution_count": 11,
   "metadata": {},
   "outputs": [
    {
     "data": {
      "text/plain": [
       "0.9026718406604519"
      ]
     },
     "execution_count": 11,
     "metadata": {},
     "output_type": "execute_result"
    }
   ],
   "source": [
    "f1_score(y_true, y_pred, average=\"weighted\")"
   ]
  },
  {
   "cell_type": "code",
   "execution_count": null,
   "metadata": {},
   "outputs": [],
   "source": []
  }
 ],
 "metadata": {
  "kernelspec": {
   "display_name": ".venv.nosync",
   "language": "python",
   "name": "python3"
  },
  "language_info": {
   "codemirror_mode": {
    "name": "ipython",
    "version": 3
   },
   "file_extension": ".py",
   "mimetype": "text/x-python",
   "name": "python",
   "nbconvert_exporter": "python",
   "pygments_lexer": "ipython3",
   "version": "3.11.9"
  }
 },
 "nbformat": 4,
 "nbformat_minor": 2
}
