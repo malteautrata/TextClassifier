{
 "cells": [
  {
   "cell_type": "code",
   "execution_count": 2,
   "metadata": {},
   "outputs": [],
   "source": [
    "import csv\n",
    "import time\n",
    "from collections import Counter\n",
    "\n",
    "import matplotlib.pyplot as plt\n",
    "import torch\n",
    "from torch import nn, optim\n",
    "\n",
    "from src import load_dataset\n",
    "from src.load_dataset import add_label_id\n",
    "from src.models import T5EncoderClassifier"
   ]
  },
  {
   "cell_type": "code",
   "execution_count": null,
   "metadata": {},
   "outputs": [],
   "source": [
    "device = torch.device(\"cuda\" if torch.cuda.is_available() else \"cpu\")\n",
    "print(\"Using device:\", device)"
   ]
  },
  {
   "cell_type": "code",
   "execution_count": null,
   "metadata": {},
   "outputs": [],
   "source": [
    "loss_fn = nn.CrossEntropyLoss()"
   ]
  },
  {
   "cell_type": "code",
   "execution_count": null,
   "metadata": {},
   "outputs": [],
   "source": [
    "model = T5EncoderClassifier(loss_fn=loss_fn, lr=2e-6, use_gradient_clip=True)"
   ]
  },
  {
   "cell_type": "code",
   "execution_count": null,
   "metadata": {},
   "outputs": [],
   "source": [
    "optimizer = optim.AdamW(model.parameters(), model.lr)"
   ]
  },
  {
   "cell_type": "code",
   "execution_count": null,
   "metadata": {},
   "outputs": [],
   "source": [
    "simplified_labels = [\n",
    "    \"Web\",\n",
    "    \"International\",\n",
    "    \"Etat\",\n",
    "    \"Wirtschaft\",\n",
    "    \"Panorama\",\n",
    "    \"Sport\",\n",
    "    \"Wissenschaft\",\n",
    "    \"Kultur\",\n",
    "    \"Heimat\",\n",
    "]"
   ]
  },
  {
   "cell_type": "code",
   "execution_count": null,
   "metadata": {},
   "outputs": [],
   "source": [
    "decoder_attentionmask = [1 for _ in range(len(load_dataset.label_to_id))]\n",
    "decoder_inputs = [\n",
    "    model.tokenizer(simplified_label).input_ids[0]\n",
    "    for simplified_label in simplified_labels\n",
    "]\n",
    "\n",
    "\n",
    "def tokenize_function(examples):\n",
    "    if model.is_transformer:\n",
    "        input_tokenized = model.tokenizer(\n",
    "            examples[\"text\"], padding=\"max_length\", max_length=512, truncation=True\n",
    "        )\n",
    "        return {\n",
    "            \"input_ids\": input_tokenized.input_ids,\n",
    "            \"input_attention_mask\": input_tokenized.attention_mask,\n",
    "            \"decoder_ids\": decoder_inputs,\n",
    "            \"decoder_attention_mask\": decoder_attentionmask,\n",
    "        }\n",
    "    else:\n",
    "        return model.tokenizer(\n",
    "            examples[\"text\"], padding=\"max_length\", max_length=512, truncation=True\n",
    "        )"
   ]
  },
  {
   "cell_type": "code",
   "execution_count": null,
   "metadata": {},
   "outputs": [],
   "source": [
    "train_ds, test_ds = load_dataset.load_dataset(\n",
    "    \"../German_newspaper_articles/10kGNAD/train.csv\",\n",
    "    \"../German_newspaper_articles/10kGNAD/test.csv\",\n",
    ")"
   ]
  },
  {
   "cell_type": "code",
   "execution_count": null,
   "metadata": {},
   "outputs": [],
   "source": [
    "train_ds = train_ds.map(tokenize_function)\n",
    "test_ds = test_ds.map(tokenize_function)"
   ]
  },
  {
   "cell_type": "code",
   "execution_count": null,
   "metadata": {},
   "outputs": [],
   "source": [
    "train_ds = train_ds.map(add_label_id)\n",
    "test_ds = test_ds.map(add_label_id)"
   ]
  },
  {
   "cell_type": "code",
   "execution_count": null,
   "metadata": {},
   "outputs": [],
   "source": [
    "train_ds.set_format(\"torch\", device=device)\n",
    "model.to(device)"
   ]
  },
  {
   "cell_type": "code",
   "execution_count": null,
   "metadata": {},
   "outputs": [],
   "source": [
    "def eval(val_data):\n",
    "    model.eval()\n",
    "    correct = 0\n",
    "    all = 0\n",
    "    for data in val_data:\n",
    "        label_id = torch.unsqueeze(data[\"label_id\"], 0)\n",
    "        if model.is_transformer:\n",
    "            output = model(\n",
    "                torch.unsqueeze(data[\"input_ids\"], 0),\n",
    "                torch.unsqueeze(data[\"input_attention_mask\"], 0),\n",
    "                torch.unsqueeze(data[\"decoder_ids\"], 0),\n",
    "                torch.unsqueeze(data[\"decoder_attention_mask\"], 0),\n",
    "            )\n",
    "        else:\n",
    "            output = model(\n",
    "                torch.unsqueeze(data[\"input_ids\"], 0),\n",
    "                torch.unsqueeze(data[\"attention_mask\"], 0),\n",
    "            )\n",
    "\n",
    "        output = torch.argmax(output)\n",
    "        if label_id == output:\n",
    "            correct += 1\n",
    "        all += 1\n",
    "    print(f\"Eval accuracy: {(correct/all)*100:.2f}%\")\n",
    "    return (correct / all) * 100"
   ]
  },
  {
   "cell_type": "code",
   "execution_count": null,
   "metadata": {},
   "outputs": [],
   "source": [
    "batch_size = 8\n",
    "batch_index = 0\n",
    "running_loss = 0\n",
    "epochs = 10\n",
    "train_eval = train_ds.train_test_split(test_size=0.2, shuffle=True)\n",
    "loss_ls = []\n",
    "accuracy_ls = []\n",
    "start_time = time.perf_counter()\n",
    "for i in range(epochs):\n",
    "    print(f\"Epoch: {i}\")\n",
    "    train_eval = train_eval.shuffle()\n",
    "    for j in range(int(len(train_eval[\"train\"]) / batch_size)):\n",
    "        model.train()\n",
    "        batch = train_eval[\"train\"][batch_index : batch_index + batch_size]\n",
    "        batch_index += batch_size\n",
    "        optimizer.zero_grad()\n",
    "        if model.is_transformer:\n",
    "            output = model(\n",
    "                batch[\"input_ids\"],\n",
    "                batch[\"input_attention_mask\"],\n",
    "                batch[\"decoder_ids\"],\n",
    "                batch[\"decoder_attention_mask\"],\n",
    "            )\n",
    "        else:\n",
    "            output = model(batch[\"input_ids\"], batch[\"attention_mask\"])\n",
    "\n",
    "        loss = model.loss_fn(output, batch[\"label_id\"])\n",
    "        loss.backward()\n",
    "        if model.use_gradient_clip:\n",
    "            nn.utils.clip_grad_norm_(model.parameters(), 1.0)\n",
    "        optimizer.step()\n",
    "        running_loss += loss.item()\n",
    "        if j % 50 == 49:\n",
    "            print(f\"loss: {running_loss/50}\")\n",
    "            loss_ls.append(running_loss / 50)\n",
    "            running_loss = 0\n",
    "        if j % 200 == 199:\n",
    "            accuracy_ls.append(eval(train_eval[\"test\"]))\n",
    "\n",
    "    batch_index = 0\n",
    "\n",
    "end_time = time.perf_counter()\n",
    "duration = (end_time - start_time) / 60\n",
    "print(f\"Training took {duration:0.4f} minutes\")"
   ]
  },
  {
   "cell_type": "code",
   "execution_count": null,
   "metadata": {},
   "outputs": [],
   "source": [
    "metrics = {\"loss\": loss_ls, \"accuracy\": accuracy_ls}\n",
    "path_to_save_metrics = \"./t5_results/transformer/metrics\"\n",
    "with open(\n",
    "    path_to_save_metrics + f\"/metrics_{epochs}_epochs.csv\", \"w\", encoding=\"utf-8\"\n",
    ") as file:\n",
    "    file_writer = csv.DictWriter(file, fieldnames=metrics.keys())\n",
    "    file_writer.writeheader()\n",
    "    file_writer.writerow(metrics)"
   ]
  },
  {
   "cell_type": "code",
   "execution_count": null,
   "metadata": {},
   "outputs": [],
   "source": [
    "loss_steps = [(i + 1) * 50 for i in range(len(loss_ls))]\n",
    "accuracy_steps = [(i + 1) * 200 for i in range(len(accuracy_ls))]\n",
    "\n",
    "fig, ax1 = plt.subplots()\n",
    "\n",
    "ax2 = ax1.twinx()\n",
    "plt.gca().ticklabel_format(axis=\"both\", style=\"plain\", useOffset=False)\n",
    "ax1.plot(loss_steps, loss_ls, \"r-\")\n",
    "ax2.plot(accuracy_steps, accuracy_ls, \"g-\")\n",
    "ax1.set_xlabel(\"Steps\")\n",
    "ax1.set_ylabel(\"Loss\", color=\"r\")\n",
    "ax2.set_ylabel(\"Accuracy\", color=\"g\")\n",
    "\n",
    "plt.title(\"T5 base\")\n",
    "txt = f\"lr={model.lr}, batch_size={batch_size}, epochs={epochs}, gradient_clip=1.0 \\n Training duration: {duration:0.2f} minutes\"\n",
    "plt.figtext(0.5, -0.05, txt, wrap=True, horizontalalignment=\"center\", fontsize=12)\n",
    "\n",
    "plt.savefig(path_to_save_metrics + f\"/graph_{epochs}_epochs.png\")\n",
    "plt.show()"
   ]
  },
  {
   "cell_type": "code",
   "execution_count": null,
   "metadata": {},
   "outputs": [],
   "source": [
    "correct = 0\n",
    "correct_dict = {\n",
    "    \"Web\": 0,\n",
    "    \"International\": 0,\n",
    "    \"Etat\": 0,\n",
    "    \"Wirtschaft\": 0,\n",
    "    \"Panorama\": 0,\n",
    "    \"Sport\": 0,\n",
    "    \"Wissenschaft\": 0,\n",
    "    \"Kultur\": 0,\n",
    "    \"Inland\": 0,\n",
    "}\n",
    "wrong = []\n",
    "\n",
    "\n",
    "def test():\n",
    "    model.eval()\n",
    "    test_ds.set_format(\"torch\", device=device)\n",
    "    start_time = time.perf_counter()\n",
    "    for data in test_ds:\n",
    "        label_id = torch.unsqueeze(data[\"label_id\"], 0)\n",
    "        if model.is_transformer:\n",
    "            output = model(\n",
    "                torch.unsqueeze(data[\"input_ids\"], 0),\n",
    "                torch.unsqueeze(data[\"input_attention_mask\"], 0),\n",
    "                torch.unsqueeze(data[\"decoder_ids\"], 0),\n",
    "                torch.unsqueeze(data[\"decoder_attention_mask\"], 0),\n",
    "            )\n",
    "        else:\n",
    "            output = model(\n",
    "                torch.unsqueeze(data[\"input_ids\"], 0),\n",
    "                torch.unsqueeze(data[\"attention_mask\"], 0),\n",
    "            )\n",
    "\n",
    "        output = torch.argmax(output)\n",
    "        if label_id == output:\n",
    "            global correct_dict\n",
    "            correct_dict[load_dataset.id_to_label[output.item()]] += 1\n",
    "            global correct\n",
    "            correct += 1\n",
    "        else:\n",
    "            pred = {\n",
    "                \"sample\": data[\"text\"],\n",
    "                \"prediction\": load_dataset.id_to_label[output.item()],\n",
    "                \"label\": data[\"label\"],\n",
    "            }\n",
    "            wrong.append(pred)\n",
    "    end_time = time.perf_counter()\n",
    "    print(f\"Test took {(end_time - start_time)/60:0.4f} minutes\")\n",
    "    return (correct / len(test_ds)) * 100"
   ]
  },
  {
   "cell_type": "code",
   "execution_count": null,
   "metadata": {},
   "outputs": [],
   "source": [
    "accuracy_test = test()\n",
    "accuracy_test"
   ]
  },
  {
   "cell_type": "code",
   "execution_count": null,
   "metadata": {},
   "outputs": [],
   "source": [
    "with open(path_to_save_metrics + \"/test_evaluation.csv\", \"w\", encoding=\"utf-8\") as file:\n",
    "    file_writer = csv.DictWriter(file, fieldnames=correct_dict.keys())\n",
    "    file_writer.writeheader()\n",
    "    file_writer.writerow(correct_dict)"
   ]
  },
  {
   "cell_type": "code",
   "execution_count": null,
   "metadata": {},
   "outputs": [],
   "source": [
    "label_counts = Counter(test_ds[\"label\"])\n",
    "label_counts"
   ]
  },
  {
   "cell_type": "code",
   "execution_count": null,
   "metadata": {},
   "outputs": [],
   "source": [
    "labels = list(label_counts.keys())\n",
    "differences = dict()\n",
    "for label in labels:\n",
    "    differences[label] = correct_dict[label] / label_counts[label]"
   ]
  },
  {
   "cell_type": "code",
   "execution_count": null,
   "metadata": {},
   "outputs": [],
   "source": [
    "difference_values = [value * 100 for value in differences.values()]\n",
    "difference_labels = [value for value in differences.keys()]\n",
    "fig, ax = plt.subplots()\n",
    "\n",
    "xs = range(len(difference_labels))\n",
    "ys = [difference_values[x] for x in xs]\n",
    "\n",
    "ax.bar(difference_labels, ys, 0.6)\n",
    "plt.title(\"correct per category\")\n",
    "plt.xlabel(\"category\")\n",
    "plt.ylabel(\"accuracy in %\")\n",
    "plt.setp(ax.get_xticklabels(), rotation=30, horizontalalignment=\"right\")\n",
    "plt.savefig(path_to_save_metrics + \"/test_evaluation.png\")\n",
    "\n",
    "plt.show()"
   ]
  },
  {
   "cell_type": "code",
   "execution_count": null,
   "metadata": {},
   "outputs": [],
   "source": [
    "path_to_model = \"./t5_results/model/model.pt\"\n",
    "torch.save(model, path_to_model)"
   ]
  }
 ],
 "metadata": {
  "kernelspec": {
   "display_name": ".venv.nosync",
   "language": "python",
   "name": "python3"
  },
  "language_info": {
   "codemirror_mode": {
    "name": "ipython",
    "version": 3
   },
   "file_extension": ".py",
   "mimetype": "text/x-python",
   "name": "python",
   "nbconvert_exporter": "python",
   "pygments_lexer": "ipython3",
   "version": "3.11.9"
  }
 },
 "nbformat": 4,
 "nbformat_minor": 2
}
