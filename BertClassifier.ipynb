{
 "cells": [
  {
   "cell_type": "code",
   "execution_count": 15,
   "metadata": {},
   "outputs": [],
   "source": [
    "from torch import nn, optim\n",
    "import torch\n",
    "import time\n",
    "from load_dataset import load_dataset, add_label_id\n",
    "import csv\n",
    "import matplotlib.pyplot as plt\n",
    "from collections import Counter\n",
    "from models import BertTextClassifier"
   ]
  },
  {
   "cell_type": "code",
   "execution_count": 16,
   "metadata": {},
   "outputs": [
    {
     "name": "stdout",
     "output_type": "stream",
     "text": [
      "Using device: cpu\n"
     ]
    }
   ],
   "source": [
    "device = torch.device('cuda' if torch.cuda.is_available() else 'cpu')\n",
    "print('Using device:', device)\n",
    "device = \"mps\""
   ]
  },
  {
   "cell_type": "code",
   "execution_count": 17,
   "metadata": {},
   "outputs": [],
   "source": [
    "loss_fn = nn.CrossEntropyLoss()"
   ]
  },
  {
   "cell_type": "code",
   "execution_count": 18,
   "metadata": {},
   "outputs": [],
   "source": [
    "model = BertTextClassifier(loss_fn=loss_fn, lr=2e-7, use_gradient_clip=True)"
   ]
  },
  {
   "cell_type": "code",
   "execution_count": 19,
   "metadata": {},
   "outputs": [],
   "source": [
    "path_to_model = \"./bert_results/model/model.pt\"\n",
    "model = torch.load(path_to_model, map_location=\"mps\")"
   ]
  },
  {
   "cell_type": "code",
   "execution_count": 20,
   "metadata": {},
   "outputs": [],
   "source": [
    "optimizer = optim.AdamW(model.parameters(), model.lr)"
   ]
  },
  {
   "cell_type": "code",
   "execution_count": 21,
   "metadata": {},
   "outputs": [],
   "source": [
    "def tokenize_function(examples):\n",
    "    return model.tokenizer(examples[\"text\"], padding=\"max_length\", truncation=True)"
   ]
  },
  {
   "cell_type": "code",
   "execution_count": 22,
   "metadata": {},
   "outputs": [],
   "source": [
    "train_ds, test_ds = load_dataset(\"../German_newspaper_articles/10kGNAD/train.csv\", \n",
    "                                 \"../German_newspaper_articles/10kGNAD/test.csv\")"
   ]
  },
  {
   "cell_type": "code",
   "execution_count": 23,
   "metadata": {},
   "outputs": [
    {
     "name": "stderr",
     "output_type": "stream",
     "text": [
      "Parameter 'function'=<function tokenize_function at 0x3294fc180> of the transform datasets.arrow_dataset.Dataset._map_single couldn't be hashed properly, a random hash was used instead. Make sure your transforms and parameters are serializable with pickle or dill for the dataset fingerprinting and caching to work. If you reuse this transform, the caching mechanism will consider it to be different from the previous calls and recompute everything. This warning is only showed once. Subsequent hashing failures won't be showed.\n"
     ]
    },
    {
     "data": {
      "application/vnd.jupyter.widget-view+json": {
       "model_id": "858e70d81524489cbc9812359fcbbdc4",
       "version_major": 2,
       "version_minor": 0
      },
      "text/plain": [
       "Map:   0%|          | 0/9245 [00:00<?, ? examples/s]"
      ]
     },
     "metadata": {},
     "output_type": "display_data"
    }
   ],
   "source": [
    "train_ds = train_ds.map(tokenize_function)\n",
    "test_ds = test_ds.map(tokenize_function)"
   ]
  },
  {
   "cell_type": "code",
   "execution_count": null,
   "metadata": {},
   "outputs": [
    {
     "data": {
      "application/vnd.jupyter.widget-view+json": {
       "model_id": "624ef37f950f4527bf198a9a16c2a878",
       "version_major": 2,
       "version_minor": 0
      },
      "text/plain": [
       "Map:   0%|          | 0/9245 [00:00<?, ? examples/s]"
      ]
     },
     "metadata": {},
     "output_type": "display_data"
    },
    {
     "data": {
      "application/vnd.jupyter.widget-view+json": {
       "model_id": "a1d04ea84f61466da3b9d43f63d8fccc",
       "version_major": 2,
       "version_minor": 0
      },
      "text/plain": [
       "Map:   0%|          | 0/1028 [00:00<?, ? examples/s]"
      ]
     },
     "metadata": {},
     "output_type": "display_data"
    }
   ],
   "source": [
    "train_ds = train_ds.map(add_label_id)\n",
    "test_ds = test_ds.map(add_label_id)"
   ]
  },
  {
   "cell_type": "code",
   "execution_count": null,
   "metadata": {},
   "outputs": [
    {
     "data": {
      "text/plain": [
       "BertTextClassifier(\n",
       "  (loss_fn): CrossEntropyLoss()\n",
       "  (bert_model): BertModel(\n",
       "    (embeddings): BertEmbeddings(\n",
       "      (word_embeddings): Embedding(31102, 1024, padding_idx=0)\n",
       "      (position_embeddings): Embedding(512, 1024)\n",
       "      (token_type_embeddings): Embedding(2, 1024)\n",
       "      (LayerNorm): LayerNorm((1024,), eps=1e-12, elementwise_affine=True)\n",
       "      (dropout): Dropout(p=0.1, inplace=False)\n",
       "    )\n",
       "    (encoder): BertEncoder(\n",
       "      (layer): ModuleList(\n",
       "        (0-23): 24 x BertLayer(\n",
       "          (attention): BertAttention(\n",
       "            (self): BertSelfAttention(\n",
       "              (query): Linear(in_features=1024, out_features=1024, bias=True)\n",
       "              (key): Linear(in_features=1024, out_features=1024, bias=True)\n",
       "              (value): Linear(in_features=1024, out_features=1024, bias=True)\n",
       "              (dropout): Dropout(p=0.1, inplace=False)\n",
       "            )\n",
       "            (output): BertSelfOutput(\n",
       "              (dense): Linear(in_features=1024, out_features=1024, bias=True)\n",
       "              (LayerNorm): LayerNorm((1024,), eps=1e-12, elementwise_affine=True)\n",
       "              (dropout): Dropout(p=0.1, inplace=False)\n",
       "            )\n",
       "          )\n",
       "          (intermediate): BertIntermediate(\n",
       "            (dense): Linear(in_features=1024, out_features=4096, bias=True)\n",
       "            (intermediate_act_fn): GELUActivation()\n",
       "          )\n",
       "          (output): BertOutput(\n",
       "            (dense): Linear(in_features=4096, out_features=1024, bias=True)\n",
       "            (LayerNorm): LayerNorm((1024,), eps=1e-12, elementwise_affine=True)\n",
       "            (dropout): Dropout(p=0.1, inplace=False)\n",
       "          )\n",
       "        )\n",
       "      )\n",
       "    )\n",
       "    (pooler): BertPooler(\n",
       "      (dense): Linear(in_features=1024, out_features=1024, bias=True)\n",
       "      (activation): Tanh()\n",
       "    )\n",
       "  )\n",
       "  (linear1): Linear(in_features=1024, out_features=512, bias=True)\n",
       "  (linear2): Linear(in_features=512, out_features=9, bias=True)\n",
       "  (dropout): Dropout(p=0.1, inplace=False)\n",
       ")"
      ]
     },
     "execution_count": 11,
     "metadata": {},
     "output_type": "execute_result"
    }
   ],
   "source": [
    "train_ds.set_format(\"torch\", device=\"mps\")\n",
    "model.to(\"mps\")"
   ]
  },
  {
   "cell_type": "code",
   "execution_count": null,
   "metadata": {},
   "outputs": [],
   "source": [
    "def eval(val_data):\n",
    "    model.eval()\n",
    "    correct = 0\n",
    "    all = 0\n",
    "    for data in val_data:\n",
    "        label_id = torch.unsqueeze(data['label_id'],0)\n",
    "        output = model(torch.unsqueeze(data['input_ids'], 0), torch.unsqueeze(data['attention_mask'], 0))                          \n",
    "        output = torch.argmax(output)\n",
    "        if label_id == output:\n",
    "            correct +=1\n",
    "        all += 1\n",
    "    print(f\"Eval accuracy: {(correct/all)*100:.2f}%\")\n",
    "    return (correct/all)*100"
   ]
  },
  {
   "cell_type": "code",
   "execution_count": null,
   "metadata": {},
   "outputs": [],
   "source": [
    "batch_size = 8\n",
    "batch_index = 0\n",
    "running_loss = 0\n",
    "epochs = 10\n",
    "train_eval = train_ds.train_test_split(test_size=0.2, shuffle=True)\n",
    "loss_ls = []\n",
    "accuracy_ls = []\n",
    "start_time = time.perf_counter()\n",
    "for i in range(epochs):\n",
    "    print(f\"Epoch: {i}\")\n",
    "    train_eval = train_eval.shuffle()\n",
    "    for j in range(int(len(train_eval[\"train\"])/batch_size)):\n",
    "        model.train()\n",
    "        batch = train_eval['train'][batch_index:batch_index+batch_size]\n",
    "        batch_index += batch_size\n",
    "        optimizer.zero_grad()\n",
    "\n",
    "        output = model(batch[\"input_ids\"], batch[\"attention_mask\"])\n",
    "        loss = model.loss_fn(output, batch[\"label_id\"])\n",
    "        loss.backward()\n",
    "        if model.use_gradient_clip:\n",
    "            nn.utils.clip_grad_norm_(model.parameters(), 1.0)\n",
    "        optimizer.step()\n",
    "        running_loss += loss.item()\n",
    "        if j % 50 == 49:\n",
    "            print(f\"loss: {running_loss/50}\")\n",
    "            loss_ls.append(running_loss/50)\n",
    "            running_loss = 0\n",
    "        if j % 200 == 199:\n",
    "            accuracy_ls.append(eval(train_eval[\"test\"]))\n",
    "\n",
    "    batch_index = 0\n",
    "       \n",
    "end_time = time.perf_counter()\n",
    "print(f\"Training took {(end_time - start_time)/60:0.4f} minutes\")"
   ]
  },
  {
   "cell_type": "code",
   "execution_count": null,
   "metadata": {},
   "outputs": [],
   "source": [
    "metrics = {\"loss\": loss_ls,\n",
    "           \"accuracy\": accuracy_ls}\n",
    "path_to_save_metrics = \"./bert_results/metrics\"\n",
    "with open(path_to_save_metrics + \"/metrics_10_epochs.csv\", \"w\", encoding=\"utf-8\") as file:\n",
    "    file_writer = csv.DictWriter(file, fieldnames=metrics.keys())\n",
    "    file_writer.writeheader()\n",
    "    file_writer.writerow(metrics)"
   ]
  },
  {
   "cell_type": "code",
   "execution_count": null,
   "metadata": {},
   "outputs": [],
   "source": [
    "loss_steps = [(i+1)*50 for i in range(len(loss_ls))]\n",
    "accuracy_steps = [(i+1)*200 for i in range(len(accuracy_ls))]\n",
    "\n",
    "fig, ax1 = plt.subplots()\n",
    "\n",
    "ax2 = ax1.twinx()\n",
    "plt.gca().ticklabel_format(axis='both', style='plain', useOffset=False)\n",
    "ax1.plot(loss_steps, loss_ls, 'r-')\n",
    "ax2.plot(accuracy_steps, accuracy_ls, 'g-')\n",
    "ax1.set_xlabel('Steps')\n",
    "ax1.set_ylabel('Loss', color='r')\n",
    "ax2.set_ylabel('Accuracy', color='g')\n",
    "\n",
    "plt.title('T5 base')\n",
    "txt = \"lr=2e-5, batch_size=8, epochs=10, gradient_clip=1.0 \\n Training duration: 293.78 minutes\"\n",
    "plt.figtext(0.5, -0.05, txt, wrap=True, horizontalalignment='center', fontsize=12)\n",
    "\n",
    "plt.savefig(path_to_save_metrics + \"/graph_20_epochs.png\")\n",
    "plt.show()"
   ]
  },
  {
   "cell_type": "code",
   "execution_count": null,
   "metadata": {},
   "outputs": [],
   "source": [
    "id_to_label = {0: \"Web\", 1:\"International\", 2: \"Etat\", 3: \"Wirtschaft\", 4: \"Panorama\",\n",
    "               5: \"Sport\", 6: \"Wissenschaft\", 7: \"Kultur\", 8: \"Inland\"}"
   ]
  },
  {
   "cell_type": "code",
   "execution_count": null,
   "metadata": {},
   "outputs": [],
   "source": [
    "correct = 0\n",
    "correct_dict = {\"Web\": 0, \"International\": 0, \"Etat\": 0, \"Wirtschaft\": 0, \"Panorama\": 0, \"Sport\": 0, \"Wissenschaft\": 0, \"Kultur\": 0,\n",
    "                \"Inland\": 0}\n",
    "wrong = []\n",
    "def test():\n",
    "    model.eval()\n",
    "    test_ds.set_format(\"torch\", device=device)\n",
    "    start_time = time.perf_counter()\n",
    "    for data in test_ds:\n",
    "        label_id = torch.unsqueeze(data['label_id'], 0)\n",
    "        if model.is_transformer:\n",
    "            output = model(torch.unsqueeze(data['input_ids'], 0), torch.unsqueeze(data['input_attention_mask'], 0),\n",
    "                        torch.unsqueeze(data['decoder_ids'], 0), torch.unsqueeze(data['decoder_attention_mask'], 0))\n",
    "        else:\n",
    "            output = model(torch.unsqueeze(data['input_ids'], 0), torch.unsqueeze(data['attention_mask'], 0))\n",
    "            \n",
    "        output = torch.argmax(output)\n",
    "        if label_id == output:\n",
    "            global correct_dict\n",
    "            correct_dict[id_to_label[output.item()]] += 1\n",
    "            global correct\n",
    "            correct +=1\n",
    "        else:\n",
    "            pred = {\"sample\": data[\"text\"], \"prediction\": id_to_label[output.item()], \"label\": data[\"label\"]}\n",
    "            wrong.append(pred)\n",
    "    end_time = time.perf_counter()\n",
    "    print(f\"Test took {(end_time - start_time)/60:0.4f} minutes\")\n",
    "    return (correct/len(test_ds))*100 "
   ]
  },
  {
   "cell_type": "code",
   "execution_count": null,
   "metadata": {},
   "outputs": [],
   "source": [
    "accuracy_test = test()\n",
    "accuracy_test"
   ]
  },
  {
   "cell_type": "code",
   "execution_count": null,
   "metadata": {},
   "outputs": [],
   "source": [
    "with open(path_to_save_metrics + \"/test_evaluation.csv\", \"w\", encoding=\"utf-8\") as file:\n",
    "    file_writer = csv.DictWriter(file, fieldnames=correct_dict.keys())\n",
    "    file_writer.writeheader()\n",
    "    file_writer.writerow(correct_dict)"
   ]
  },
  {
   "cell_type": "code",
   "execution_count": null,
   "metadata": {},
   "outputs": [],
   "source": [
    "label_counts = Counter(test_ds[\"label\"])\n",
    "label_counts"
   ]
  },
  {
   "cell_type": "code",
   "execution_count": null,
   "metadata": {},
   "outputs": [],
   "source": [
    "labels = list(label_counts.keys())\n",
    "differences = dict()\n",
    "for label in labels:\n",
    "    differences[label] = correct_dict[label]/label_counts[label]"
   ]
  },
  {
   "cell_type": "code",
   "execution_count": null,
   "metadata": {},
   "outputs": [],
   "source": [
    "difference_values = [value*100 for value in differences.values()]\n",
    "difference_labels = [value for value in differences.keys()]\n",
    "fig, ax = plt.subplots()\n",
    "\n",
    "xs = range(len(difference_labels))\n",
    "ys = [difference_values[x] for x in xs]\n",
    "\n",
    "ax.bar(difference_labels, ys, 0.6)\n",
    "plt.title(\"correct per category\")\n",
    "plt.xlabel(\"category\")\n",
    "plt.ylabel(\"accuracy in %\")\n",
    "plt.setp(ax.get_xticklabels(), rotation=30, horizontalalignment='right')\n",
    "plt.savefig(path_to_save_metrics + \"/test_evaluation.png\")\n",
    "\n",
    "plt.show()"
   ]
  },
  {
   "cell_type": "code",
   "execution_count": null,
   "metadata": {},
   "outputs": [],
   "source": [
    "path_to_model = \"./bert_results/model/model.pt\"\n",
    "torch.save(model, path_to_model)"
   ]
  }
 ],
 "metadata": {
  "kernelspec": {
   "display_name": ".venv.nosync",
   "language": "python",
   "name": "python3"
  },
  "language_info": {
   "codemirror_mode": {
    "name": "ipython",
    "version": 3
   },
   "file_extension": ".py",
   "mimetype": "text/x-python",
   "name": "python",
   "nbconvert_exporter": "python",
   "pygments_lexer": "ipython3",
   "version": "3.11.9"
  }
 },
 "nbformat": 4,
 "nbformat_minor": 2
}
