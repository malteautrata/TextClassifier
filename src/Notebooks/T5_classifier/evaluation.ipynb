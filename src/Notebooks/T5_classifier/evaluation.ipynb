{
 "cells": [
  {
   "cell_type": "code",
   "execution_count": 4,
   "metadata": {},
   "outputs": [],
   "source": [
    "import time\n",
    "\n",
    "import torch\n",
    "from scripts import load_dataset\n",
    "from scripts.encoder_model_wrapper import T5EncoderClassifier\n",
    "from sklearn.metrics import (\n",
    "    ConfusionMatrixDisplay,\n",
    "    accuracy_score,\n",
    "    balanced_accuracy_score,\n",
    "    f1_score,\n",
    "    precision_score,\n",
    "    recall_score,\n",
    ")\n",
    "from transformers import (\n",
    "    AutoModelForSeq2SeqLM,\n",
    "    AutoTokenizer,\n",
    "    DataCollatorForSeq2Seq,\n",
    "    GenerationConfig,\n",
    "    Seq2SeqTrainer,\n",
    "    Seq2SeqTrainingArguments,\n",
    ")"
   ]
  },
  {
   "cell_type": "markdown",
   "metadata": {},
   "source": [
    "# T5 Base Evaluation"
   ]
  },
  {
   "cell_type": "code",
   "execution_count": 6,
   "metadata": {},
   "outputs": [],
   "source": [
    "_, test_ds = load_dataset.load_dataset(\n",
    "    \"../../../../German_newspaper_articles/10kGNAD/train.csv\",\n",
    "    \"../../../../German_newspaper_articles/10kGNAD/test.csv\",\n",
    ")"
   ]
  },
  {
   "cell_type": "code",
   "execution_count": 7,
   "metadata": {},
   "outputs": [
    {
     "data": {
      "application/vnd.jupyter.widget-view+json": {
       "model_id": "1a2f1c7b6efc4a17ac97c5aa0fb9c407",
       "version_major": 2,
       "version_minor": 0
      },
      "text/plain": [
       "Map:   0%|          | 0/1028 [00:00<?, ? examples/s]"
      ]
     },
     "metadata": {},
     "output_type": "display_data"
    }
   ],
   "source": [
    "CATEGORY_FORMAT = \"Klassifiziere nachfolgenden Artikel in eine der folgendenen Kategorien: Web, International, Etat, Wirtschaft, Panorama, Sport, Wissenschaft, Kultur oder Inland:\\n\"\n",
    "test_ds = test_ds.map(lambda x: {\"text\": CATEGORY_FORMAT + x[\"text\"]})"
   ]
  },
  {
   "cell_type": "code",
   "execution_count": 8,
   "metadata": {},
   "outputs": [
    {
     "name": "stderr",
     "output_type": "stream",
     "text": [
      "/Users/Malte/Documents/Technische Informatik /Forschungsprojekt/TextClassifier/.venv.nosync/lib/python3.11/site-packages/huggingface_hub/file_download.py:1132: FutureWarning: `resume_download` is deprecated and will be removed in version 1.0.0. Downloads always resume when possible. If you want to force a new download, use `force_download=True`.\n",
      "  warnings.warn(\n"
     ]
    }
   ],
   "source": [
    "model = AutoModelForSeq2SeqLM.from_pretrained(\n",
    "    \"../../../results/t5_results/base/model.nosync\"\n",
    ")\n",
    "generation_config = GenerationConfig.from_pretrained(\n",
    "    \"google-t5/t5-base\", max_new_tokens=5\n",
    ")\n",
    "model.generation_config = generation_config\n",
    "model.generation_config\n",
    "tokenizer = AutoTokenizer.from_pretrained(\"google-t5/t5-base\")\n",
    "data_collator = DataCollatorForSeq2Seq(tokenizer=tokenizer)"
   ]
  },
  {
   "cell_type": "code",
   "execution_count": 10,
   "metadata": {},
   "outputs": [
    {
     "data": {
      "application/vnd.jupyter.widget-view+json": {
       "model_id": "dff47fa827c049ebabf69dfc40703dca",
       "version_major": 2,
       "version_minor": 0
      },
      "text/plain": [
       "Map:   0%|          | 0/1028 [00:00<?, ? examples/s]"
      ]
     },
     "metadata": {},
     "output_type": "display_data"
    },
    {
     "data": {
      "application/vnd.jupyter.widget-view+json": {
       "model_id": "7da56bf9202144369791b87e11eb6122",
       "version_major": 2,
       "version_minor": 0
      },
      "text/plain": [
       "Map:   0%|          | 0/1028 [00:00<?, ? examples/s]"
      ]
     },
     "metadata": {},
     "output_type": "display_data"
    }
   ],
   "source": [
    "test_ds = test_ds.map(\n",
    "    lambda x: tokenizer(\n",
    "        x[\"text\"], truncation=True, padding=\"max_length\", max_length=512\n",
    "    )\n",
    ")\n",
    "test_ds = test_ds.map(\n",
    "    lambda y: {\n",
    "        \"labels\": tokenizer(\n",
    "            y[\"label\"], truncation=True, padding=\"max_length\", max_length=5\n",
    "        )[\"input_ids\"]\n",
    "    }\n",
    ").remove_columns(\"label\")"
   ]
  },
  {
   "cell_type": "code",
   "execution_count": 11,
   "metadata": {},
   "outputs": [],
   "source": [
    "def compute_metrics(eval_preds):\n",
    "    preds, eval = eval_preds\n",
    "    decoded_preds = tokenizer.batch_decode(preds, skip_special_tokens=True)\n",
    "    decoded_labels = tokenizer.batch_decode(eval, skip_special_tokens=True)\n",
    "    label_ids = [\n",
    "        load_dataset.label_to_id[decoded_label] for decoded_label in decoded_labels\n",
    "    ]\n",
    "    pred_ids = []\n",
    "    for decoded_pred in decoded_preds:\n",
    "        if decoded_pred in load_dataset.label_to_id:\n",
    "            pred_ids.append(load_dataset.label_to_id[decoded_pred])\n",
    "        else:\n",
    "            pred_ids.append(-1)\n",
    "\n",
    "    labels = [\n",
    "        \"Web\",\n",
    "        \"International\",\n",
    "        \"Etat\",\n",
    "        \"Wirtschaft\",\n",
    "        \"Panorama\",\n",
    "        \"Sport\",\n",
    "        \"Wissenschaft\",\n",
    "        \"Kultur\",\n",
    "        \"Inland\",\n",
    "    ]\n",
    "    ConfusionMatrixDisplay.from_predictions(\n",
    "        label_ids, pred_ids, display_labels=labels, xticks_rotation=\"vertical\"\n",
    "    )\n",
    "    return {\n",
    "        \"accuracy\": accuracy_score(label_ids, pred_ids),\n",
    "        \"balanced_accuracy\": balanced_accuracy_score(label_ids, pred_ids),\n",
    "        \"precision_macro\": precision_score(label_ids, pred_ids, average=\"macro\"),\n",
    "        \"precision_micro\": precision_score(label_ids, pred_ids, average=\"micro\"),\n",
    "        \"recall_macro\": recall_score(label_ids, pred_ids, average=\"macro\"),\n",
    "        \"recall_micro\": recall_score(label_ids, pred_ids, average=\"micro\"),\n",
    "        \"f1_micro\": f1_score(label_ids, pred_ids, average=\"micro\"),\n",
    "        \"f1_macro\": f1_score(label_ids, pred_ids, average=\"macro\"),\n",
    "    }"
   ]
  },
  {
   "cell_type": "code",
   "execution_count": 15,
   "metadata": {},
   "outputs": [],
   "source": [
    "training_args = Seq2SeqTrainingArguments(\n",
    "    output_dir=\"./\",\n",
    "    per_device_train_batch_size=16,\n",
    "    per_device_eval_batch_size=16,\n",
    "    predict_with_generate=True,\n",
    ")"
   ]
  },
  {
   "cell_type": "code",
   "execution_count": 16,
   "metadata": {},
   "outputs": [
    {
     "name": "stderr",
     "output_type": "stream",
     "text": [
      "/Users/Malte/Documents/Technische Informatik /Forschungsprojekt/TextClassifier/.venv.nosync/lib/python3.11/site-packages/accelerate/accelerator.py:447: FutureWarning: Passing the following arguments to `Accelerator` is deprecated and will be removed in version 1.0 of Accelerate: dict_keys(['dispatch_batches', 'split_batches']). Please pass an `accelerate.DataLoaderConfiguration` instead: \n",
      "dataloader_config = DataLoaderConfiguration(dispatch_batches=None, split_batches=False)\n",
      "  warnings.warn(\n"
     ]
    }
   ],
   "source": [
    "trainer = Seq2SeqTrainer(\n",
    "    model=model,\n",
    "    tokenizer=tokenizer,\n",
    "    args=training_args,\n",
    "    data_collator=data_collator,\n",
    "    compute_metrics=compute_metrics,\n",
    ")"
   ]
  },
  {
   "cell_type": "code",
   "execution_count": null,
   "metadata": {},
   "outputs": [],
   "source": [
    "trainer.evaluate(eval_dataset=test_ds.with_format(\"torch\"))"
   ]
  },
  {
   "cell_type": "markdown",
   "metadata": {},
   "source": [
    "# T5 Encoder Evaluation"
   ]
  },
  {
   "cell_type": "code",
   "execution_count": 2,
   "metadata": {},
   "outputs": [],
   "source": [
    "_, test_ds = load_dataset.load_dataset(\n",
    "    \"../../../../German_newspaper_articles/10kGNAD/train.csv\",\n",
    "    \"../../../../German_newspaper_articles/10kGNAD/test.csv\",\n",
    ")"
   ]
  },
  {
   "cell_type": "code",
   "execution_count": 7,
   "metadata": {},
   "outputs": [
    {
     "name": "stdout",
     "output_type": "stream",
     "text": [
      "Using device: cpu\n"
     ]
    }
   ],
   "source": [
    "device = torch.device(\"cuda\" if torch.cuda.is_available() else \"cpu\")\n",
    "print(\"Using device:\", device)\n",
    "device = \"mps\"  # For mac\n",
    "model: T5EncoderClassifier = torch.load(\n",
    "    \"../../../results/t5_results/encoder/model.nosync/model.pt\", map_location=device\n",
    ")"
   ]
  },
  {
   "cell_type": "code",
   "execution_count": 8,
   "metadata": {},
   "outputs": [],
   "source": [
    "def tokenize_function(examples):\n",
    "    return model.tokenizer(\n",
    "        examples[\"text\"], padding=\"max_length\", max_length=512, truncation=True\n",
    "    )"
   ]
  },
  {
   "cell_type": "code",
   "execution_count": 9,
   "metadata": {},
   "outputs": [
    {
     "data": {
      "application/vnd.jupyter.widget-view+json": {
       "model_id": "d3cfaa1fabc24292af15dc8804116831",
       "version_major": 2,
       "version_minor": 0
      },
      "text/plain": [
       "Map:   0%|          | 0/1028 [00:00<?, ? examples/s]"
      ]
     },
     "metadata": {},
     "output_type": "display_data"
    }
   ],
   "source": [
    "test_ds = test_ds.map(tokenize_function)"
   ]
  },
  {
   "cell_type": "code",
   "execution_count": 10,
   "metadata": {},
   "outputs": [
    {
     "data": {
      "application/vnd.jupyter.widget-view+json": {
       "model_id": "83caa9cce5864c7da93c6529f732dc46",
       "version_major": 2,
       "version_minor": 0
      },
      "text/plain": [
       "Map:   0%|          | 0/1028 [00:00<?, ? examples/s]"
      ]
     },
     "metadata": {},
     "output_type": "display_data"
    }
   ],
   "source": [
    "test_ds = test_ds.map(load_dataset.add_label_id)"
   ]
  },
  {
   "cell_type": "code",
   "execution_count": 11,
   "metadata": {},
   "outputs": [],
   "source": [
    "y_true = []\n",
    "y_pred = []\n",
    "wrong = []\n",
    "\n",
    "\n",
    "def test():\n",
    "    model.eval()\n",
    "    test_ds.set_format(\"torch\", device=device)\n",
    "    start_time = time.perf_counter()\n",
    "    for data in test_ds:\n",
    "        label_id = torch.unsqueeze(data[\"label_id\"], 0)\n",
    "\n",
    "        output = model(\n",
    "            torch.unsqueeze(data[\"input_ids\"], 0),\n",
    "            torch.unsqueeze(data[\"attention_mask\"], 0),\n",
    "        )\n",
    "        output = torch.argmax(output)\n",
    "\n",
    "        global y_true\n",
    "        global y_pred\n",
    "        y_true.append(label_id.item())\n",
    "        y_pred.append(output.item())\n",
    "\n",
    "        if label_id.item() is not output.item():\n",
    "            global wrong\n",
    "            item = {\n",
    "                \"text\": data[\"text\"],\n",
    "                \"prediction\": load_dataset.id_to_label[output.item()],\n",
    "                \"label\": data[\"label\"],\n",
    "            }\n",
    "            wrong.append(item)\n",
    "    end_time = time.perf_counter()\n",
    "    print(f\"Test took {(end_time - start_time)/60:0.4f} minutes\")"
   ]
  },
  {
   "cell_type": "code",
   "execution_count": 12,
   "metadata": {},
   "outputs": [
    {
     "name": "stdout",
     "output_type": "stream",
     "text": [
      "Test took 2.6725 minutes\n"
     ]
    }
   ],
   "source": [
    "test()"
   ]
  },
  {
   "cell_type": "code",
   "execution_count": 13,
   "metadata": {},
   "outputs": [
    {
     "data": {
      "text/plain": [
       "{'accuracy': 0.9027237354085603,\n",
       " 'balanced_accuracy': 0.9046010357808828,\n",
       " 'precision_macro': 0.8979239746568471,\n",
       " 'precision_micro': 0.9027237354085603,\n",
       " 'recall_macro': 0.9046010357808828,\n",
       " 'recall_micro': 0.9027237354085603,\n",
       " 'f1_micro': 0.9027237354085603,\n",
       " 'f1_macro': 0.9006855113555177}"
      ]
     },
     "execution_count": 13,
     "metadata": {},
     "output_type": "execute_result"
    }
   ],
   "source": [
    "metrics = {\n",
    "    \"accuracy\": accuracy_score(y_true, y_pred),\n",
    "    \"balanced_accuracy\": balanced_accuracy_score(y_true, y_pred),\n",
    "    \"precision_macro\": precision_score(y_true, y_pred, average=\"macro\"),\n",
    "    \"precision_micro\": precision_score(y_true, y_pred, average=\"micro\"),\n",
    "    \"recall_macro\": recall_score(y_true, y_pred, average=\"macro\"),\n",
    "    \"recall_micro\": recall_score(y_true, y_pred, average=\"micro\"),\n",
    "    \"f1_micro\": f1_score(y_true, y_pred, average=\"micro\"),\n",
    "    \"f1_macro\": f1_score(y_true, y_pred, average=\"macro\"),\n",
    "}\n",
    "metrics"
   ]
  },
  {
   "cell_type": "code",
   "execution_count": 14,
   "metadata": {},
   "outputs": [
    {
     "data": {
      "image/png": "[encoded data removed]",
      "text/plain": [
       "<Figure size 640x480 with 2 Axes>"
      ]
     },
     "metadata": {},
     "output_type": "display_data"
    }
   ],
   "source": [
    "labels = [\n",
    "    \"Web\",\n",
    "    \"International\",\n",
    "    \"Etat\",\n",
    "    \"Wirtschaft\",\n",
    "    \"Panorama\",\n",
    "    \"Sport\",\n",
    "    \"Wissenschaft\",\n",
    "    \"Kultur\",\n",
    "    \"Inland\",\n",
    "]\n",
    "disp = ConfusionMatrixDisplay.from_predictions(\n",
    "    y_true, y_pred, display_labels=labels, xticks_rotation=\"vertical\"\n",
    ")"
   ]
  }
 ],
 "metadata": {
  "kernelspec": {
   "display_name": ".venv.nosync",
   "language": "python",
   "name": "python3"
  },
  "language_info": {
   "codemirror_mode": {
    "name": "ipython",
    "version": 3
   },
   "file_extension": ".py",
   "mimetype": "text/x-python",
   "name": "python",
   "nbconvert_exporter": "python",
   "pygments_lexer": "ipython3",
   "version": "3.11.9"
  }
 },
 "nbformat": 4,
 "nbformat_minor": 2
}
