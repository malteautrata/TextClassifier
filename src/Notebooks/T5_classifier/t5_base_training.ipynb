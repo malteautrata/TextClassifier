{
 "cells": [
  {
   "cell_type": "code",
   "execution_count": 2,
   "metadata": {},
   "outputs": [],
   "source": [
    "from scripts import load_dataset\n",
    "from sklearn.metrics import accuracy_score\n",
    "from transformers import (\n",
    "    AutoModelForSeq2SeqLM,\n",
    "    AutoTokenizer,\n",
    "    DataCollatorForSeq2Seq,\n",
    "    GenerationConfig,\n",
    "    Seq2SeqTrainer,\n",
    "    Seq2SeqTrainingArguments,\n",
    ")"
   ]
  },
  {
   "cell_type": "code",
   "execution_count": 3,
   "metadata": {},
   "outputs": [],
   "source": [
    "train_ds, _ = load_dataset.load_dataset(\n",
    "    \"../../../German_newspaper_articles/10kGNAD/train.csv\",\n",
    "    \"../../../German_newspaper_articles/10kGNAD/test.csv\",\n",
    ")"
   ]
  },
  {
   "cell_type": "code",
   "execution_count": 12,
   "metadata": {},
   "outputs": [
    {
     "name": "stderr",
     "output_type": "stream",
     "text": [
      "huggingface/tokenizers: The current process just got forked, after parallelism has already been used. Disabling parallelism to avoid deadlocks...\n",
      "To disable this warning, you can either:\n",
      "\t- Avoid using `tokenizers` before the fork if possible\n",
      "\t- Explicitly set the environment variable TOKENIZERS_PARALLELISM=(true | false)\n"
     ]
    },
    {
     "data": {
      "application/vnd.jupyter.widget-view+json": {
       "model_id": "f65fa6c95b6c4b8dbcef74e3345d8b77",
       "version_major": 2,
       "version_minor": 0
      },
      "text/plain": [
       "Map:   0%|          | 0/9245 [00:00<?, ? examples/s]"
      ]
     },
     "metadata": {},
     "output_type": "display_data"
    },
    {
     "data": {
      "application/vnd.jupyter.widget-view+json": {
       "model_id": "218fe2627a194640beddfca0e3f11534",
       "version_major": 2,
       "version_minor": 0
      },
      "text/plain": [
       "Map:   0%|          | 0/1028 [00:00<?, ? examples/s]"
      ]
     },
     "metadata": {},
     "output_type": "display_data"
    }
   ],
   "source": [
    "CATEGORY_FORMAT = \"Klassifiziere nachfolgenden Artikel in eine der folgendenen Kategorien: Web, International, Etat, Wirtschaft, Panorama, Sport, Wissenschaft, Kultur oder Inland:\\n\"\n",
    "\n",
    "train_ds = train_ds.map(lambda x: {\"text\": CATEGORY_FORMAT + x[\"text\"]})"
   ]
  },
  {
   "cell_type": "code",
   "execution_count": 13,
   "metadata": {},
   "outputs": [],
   "source": [
    "model = AutoModelForSeq2SeqLM.from_pretrained(\"google-t5/t5-base\")"
   ]
  },
  {
   "cell_type": "code",
   "execution_count": 14,
   "metadata": {},
   "outputs": [
    {
     "name": "stderr",
     "output_type": "stream",
     "text": [
      "/Users/Malte/Documents/Technische Informatik /Forschungsprojekt/TextClassifier/.venv.nosync/lib/python3.11/site-packages/huggingface_hub/file_download.py:1132: FutureWarning: `resume_download` is deprecated and will be removed in version 1.0.0. Downloads always resume when possible. If you want to force a new download, use `force_download=True`.\n",
      "  warnings.warn(\n"
     ]
    }
   ],
   "source": [
    "generation_config = GenerationConfig.from_pretrained(\n",
    "    \"google-t5/t5-base\", max_new_tokens=5\n",
    ")"
   ]
  },
  {
   "cell_type": "code",
   "execution_count": 15,
   "metadata": {},
   "outputs": [
    {
     "data": {
      "text/plain": [
       "GenerationConfig {\n",
       "  \"decoder_start_token_id\": 0,\n",
       "  \"eos_token_id\": 1,\n",
       "  \"max_new_tokens\": 5,\n",
       "  \"pad_token_id\": 0\n",
       "}"
      ]
     },
     "execution_count": 15,
     "metadata": {},
     "output_type": "execute_result"
    }
   ],
   "source": [
    "model.generation_config = generation_config\n",
    "model.generation_config"
   ]
  },
  {
   "cell_type": "code",
   "execution_count": 16,
   "metadata": {},
   "outputs": [],
   "source": [
    "tokenizer = AutoTokenizer.from_pretrained(\"google-t5/t5-base\")"
   ]
  },
  {
   "cell_type": "code",
   "execution_count": 17,
   "metadata": {},
   "outputs": [],
   "source": [
    "data_collator = DataCollatorForSeq2Seq(tokenizer=tokenizer)"
   ]
  },
  {
   "cell_type": "code",
   "execution_count": 19,
   "metadata": {},
   "outputs": [
    {
     "data": {
      "application/vnd.jupyter.widget-view+json": {
       "model_id": "fc2178ad384f422e8402921817b83121",
       "version_major": 2,
       "version_minor": 0
      },
      "text/plain": [
       "Map:   0%|          | 0/9245 [00:00<?, ? examples/s]"
      ]
     },
     "metadata": {},
     "output_type": "display_data"
    },
    {
     "data": {
      "application/vnd.jupyter.widget-view+json": {
       "model_id": "07b6728cb7a64d4f8d1678df7e162009",
       "version_major": 2,
       "version_minor": 0
      },
      "text/plain": [
       "Map:   0%|          | 0/9245 [00:00<?, ? examples/s]"
      ]
     },
     "metadata": {},
     "output_type": "display_data"
    }
   ],
   "source": [
    "train_ds = train_ds.map(\n",
    "    lambda x: tokenizer(\n",
    "        x[\"text\"], truncation=True, padding=\"max_length\", max_length=512\n",
    "    )\n",
    ")\n",
    "train_ds = train_ds.map(\n",
    "    lambda y: {\n",
    "        \"labels\": tokenizer(\n",
    "            y[\"label\"], truncation=True, padding=\"max_length\", max_length=5\n",
    "        )[\"input_ids\"]\n",
    "    }\n",
    ").remove_columns(\"label\")"
   ]
  },
  {
   "cell_type": "code",
   "execution_count": 22,
   "metadata": {},
   "outputs": [],
   "source": [
    "train_split = train_ds.train_test_split(test_size=0.2)\n",
    "train_ds = train_split[\"train\"]\n",
    "eval_ds = train_split[\"test\"]"
   ]
  },
  {
   "cell_type": "code",
   "execution_count": 24,
   "metadata": {},
   "outputs": [],
   "source": [
    "def compute_metrics(eval_preds):\n",
    "    preds, eval = eval_preds\n",
    "    decoded_preds = tokenizer.batch_decode(preds, skip_special_tokens=True)\n",
    "    decoded_labels = tokenizer.batch_decode(eval, skip_special_tokens=True)\n",
    "    label_ids = [\n",
    "        load_dataset.label_to_id[decoded_label] for decoded_label in decoded_labels\n",
    "    ]\n",
    "    pred_ids = []\n",
    "    for decoded_pred in decoded_preds:\n",
    "        if decoded_pred in load_dataset.label_to_id:\n",
    "            pred_ids.append(load_dataset.label_to_id[decoded_pred])\n",
    "        else:\n",
    "            pred_ids.append(-1)\n",
    "\n",
    "    return {\"accuracy\": accuracy_score(pred_ids, label_ids)}"
   ]
  },
  {
   "cell_type": "code",
   "execution_count": 26,
   "metadata": {},
   "outputs": [],
   "source": [
    "training_args = Seq2SeqTrainingArguments(\n",
    "    output_dir=\"./\",\n",
    "    evaluation_strategy=\"steps\",\n",
    "    per_device_train_batch_size=16,\n",
    "    per_device_eval_batch_size=16,\n",
    "    predict_with_generate=True,\n",
    "    logging_steps=500,\n",
    "    save_steps=500,\n",
    "    eval_steps=500,\n",
    "    warmup_steps=2000,\n",
    "    max_steps=10000,\n",
    "    save_total_limit=1,\n",
    ")"
   ]
  },
  {
   "cell_type": "code",
   "execution_count": 27,
   "metadata": {},
   "outputs": [
    {
     "name": "stderr",
     "output_type": "stream",
     "text": [
      "/Users/Malte/Documents/Technische Informatik /Forschungsprojekt/TextClassifier/.venv.nosync/lib/python3.11/site-packages/accelerate/accelerator.py:447: FutureWarning: Passing the following arguments to `Accelerator` is deprecated and will be removed in version 1.0 of Accelerate: dict_keys(['dispatch_batches', 'split_batches']). Please pass an `accelerate.DataLoaderConfiguration` instead: \n",
      "dataloader_config = DataLoaderConfiguration(dispatch_batches=None, split_batches=False)\n",
      "  warnings.warn(\n"
     ]
    }
   ],
   "source": [
    "trainer = Seq2SeqTrainer(\n",
    "    model=model,\n",
    "    tokenizer=tokenizer,\n",
    "    args=training_args,\n",
    "    train_dataset=train_ds.with_format(\"torch\"),\n",
    "    eval_dataset=eval_ds.with_format(\"torch\"),\n",
    "    data_collator=data_collator,\n",
    "    compute_metrics=compute_metrics,\n",
    ")"
   ]
  },
  {
   "cell_type": "code",
   "execution_count": null,
   "metadata": {},
   "outputs": [],
   "source": [
    "trainer.train()"
   ]
  },
  {
   "cell_type": "code",
   "execution_count": null,
   "metadata": {},
   "outputs": [],
   "source": [
    "inputs = tokenizer(\n",
    "    [\n",
    "        \"Klassifiziere nachfolgenden Artikel in eine der folgendenen Kategorien: Web, International, Etat, Wirtschaft, Panorama, Sport, Wissenschaft, Kultur oder Inland:\\nDie Aktien von Tesla sind 5% gefallen\"\n",
    "    ],\n",
    "    return_tensors=\"pt\",\n",
    ")\n",
    "outputs = model.generate(**inputs)"
   ]
  },
  {
   "cell_type": "code",
   "execution_count": null,
   "metadata": {},
   "outputs": [],
   "source": [
    "tokenizer.batch_decode(outputs, skip_special_tokens=True)"
   ]
  },
  {
   "cell_type": "markdown",
   "metadata": {},
   "source": [
    "## Training stats"
   ]
  },
  {
   "cell_type": "code",
   "execution_count": 2,
   "metadata": {},
   "outputs": [],
   "source": [
    "import json\n",
    "\n",
    "\n",
    "def get_training_stats(training_state: str) -> tuple[list, list, list, list]:\n",
    "    eval_loss = []\n",
    "    train_loss = []\n",
    "    eval_accuracy = []\n",
    "    steps = []\n",
    "    with open(training_state + \"/trainer_state.json\") as f:\n",
    "        metrics = json.load(f)\n",
    "        log_history = metrics[\"log_history\"]\n",
    "\n",
    "        for log in log_history:\n",
    "            if \"eval_loss\" in log:\n",
    "                eval_loss.append(log[\"eval_loss\"])\n",
    "                steps.append(log[\"step\"])\n",
    "            if \"loss\" in log:\n",
    "                train_loss.append(log[\"loss\"])\n",
    "            if \"eval_accuracy\" in log:\n",
    "                eval_accuracy.append(log[\"eval_accuracy\"])\n",
    "    return eval_loss, train_loss, eval_accuracy, steps"
   ]
  },
  {
   "cell_type": "code",
   "execution_count": 4,
   "metadata": {},
   "outputs": [],
   "source": [
    "path_to_save_metrics = \"/Users/Malte/Documents/Technische Informatik /Forschungsprojekt/TextClassifier/results/t5_results/transformer/Checkpoint.nosync\"\n",
    "eval_loss, train_loss, eval_accuracy, steps = get_training_stats(path_to_save_metrics)"
   ]
  },
  {
   "cell_type": "code",
   "execution_count": 8,
   "metadata": {},
   "outputs": [
    {
     "data": {
      "image/png": "[encoded data removed]",
      "text/plain": [
       "<Figure size 640x480 with 2 Axes>"
      ]
     },
     "metadata": {},
     "output_type": "display_data"
    }
   ],
   "source": [
    "import matplotlib.pyplot as plt\n",
    "\n",
    "fig, ax1 = plt.subplots()\n",
    "\n",
    "ax2 = ax1.twinx()\n",
    "plt.gca().ticklabel_format(axis=\"both\", style=\"plain\", useOffset=False)\n",
    "ax1.plot(steps, train_loss, \"r-\")\n",
    "ax2.plot(steps, eval_accuracy, \"g-\")\n",
    "ax1.set_xlabel(\"Steps\")\n",
    "ax1.set_ylabel(\"Loss\", color=\"r\")\n",
    "ax2.set_ylabel(\"Accuracy\", color=\"g\")\n",
    "\n",
    "plt.title(\"T5 Sequence2Sequence\")\n",
    "\n",
    "plt.savefig(path_to_save_metrics + \"/training.png\")\n",
    "plt.show()"
   ]
  }
 ],
 "metadata": {
  "kernelspec": {
   "display_name": ".venv.nosync",
   "language": "python",
   "name": "python3"
  },
  "language_info": {
   "codemirror_mode": {
    "name": "ipython",
    "version": 3
   },
   "file_extension": ".py",
   "mimetype": "text/x-python",
   "name": "python",
   "nbconvert_exporter": "python",
   "pygments_lexer": "ipython3",
   "version": "3.11.9"
  }
 },
 "nbformat": 4,
 "nbformat_minor": 2
}
