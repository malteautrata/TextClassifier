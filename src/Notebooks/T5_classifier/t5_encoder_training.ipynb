{
 "cells": [
  {
   "cell_type": "code",
   "execution_count": 1,
   "metadata": {},
   "outputs": [],
   "source": [
    "import csv\n",
    "import time\n",
    "\n",
    "import matplotlib.pyplot as plt\n",
    "import torch\n",
    "from scripts import load_dataset\n",
    "from scripts.encoder_model_wrapper import T5EncoderClassifier\n",
    "from torch import nn, optim"
   ]
  },
  {
   "cell_type": "code",
   "execution_count": 2,
   "metadata": {},
   "outputs": [
    {
     "name": "stdout",
     "output_type": "stream",
     "text": [
      "Using device: cpu\n"
     ]
    }
   ],
   "source": [
    "device = torch.device(\"cuda\" if torch.cuda.is_available() else \"cpu\")\n",
    "print(\"Using device:\", device)"
   ]
  },
  {
   "cell_type": "code",
   "execution_count": 3,
   "metadata": {},
   "outputs": [],
   "source": [
    "loss_fn = nn.CrossEntropyLoss()"
   ]
  },
  {
   "cell_type": "code",
   "execution_count": 4,
   "metadata": {},
   "outputs": [
    {
     "name": "stderr",
     "output_type": "stream",
     "text": [
      "/Users/Malte/Documents/Technische Informatik /Forschungsprojekt/TextClassifier/.venv.nosync/lib/python3.11/site-packages/huggingface_hub/file_download.py:1132: FutureWarning: `resume_download` is deprecated and will be removed in version 1.0.0. Downloads always resume when possible. If you want to force a new download, use `force_download=True`.\n",
      "  warnings.warn(\n"
     ]
    }
   ],
   "source": [
    "model = T5EncoderClassifier(loss_fn=loss_fn, lr=2e-6, use_gradient_clip=True)"
   ]
  },
  {
   "cell_type": "code",
   "execution_count": 5,
   "metadata": {},
   "outputs": [
    {
     "data": {
      "text/plain": [
       "T5EncoderClassifier(\n",
       "  (loss_fn): CrossEntropyLoss()\n",
       "  (t5encoder_model): T5EncoderModel(\n",
       "    (shared): Embedding(32128, 1024)\n",
       "    (encoder): T5Stack(\n",
       "      (embed_tokens): Embedding(32128, 1024)\n",
       "      (block): ModuleList(\n",
       "        (0): T5Block(\n",
       "          (layer): ModuleList(\n",
       "            (0): T5LayerSelfAttention(\n",
       "              (SelfAttention): T5Attention(\n",
       "                (q): Linear(in_features=1024, out_features=1024, bias=False)\n",
       "                (k): Linear(in_features=1024, out_features=1024, bias=False)\n",
       "                (v): Linear(in_features=1024, out_features=1024, bias=False)\n",
       "                (o): Linear(in_features=1024, out_features=1024, bias=False)\n",
       "                (relative_attention_bias): Embedding(32, 16)\n",
       "              )\n",
       "              (layer_norm): T5LayerNorm()\n",
       "              (dropout): Dropout(p=0.1, inplace=False)\n",
       "            )\n",
       "            (1): T5LayerFF(\n",
       "              (DenseReluDense): T5DenseActDense(\n",
       "                (wi): Linear(in_features=1024, out_features=4096, bias=False)\n",
       "                (wo): Linear(in_features=4096, out_features=1024, bias=False)\n",
       "                (dropout): Dropout(p=0.1, inplace=False)\n",
       "                (act): ReLU()\n",
       "              )\n",
       "              (layer_norm): T5LayerNorm()\n",
       "              (dropout): Dropout(p=0.1, inplace=False)\n",
       "            )\n",
       "          )\n",
       "        )\n",
       "        (1-23): 23 x T5Block(\n",
       "          (layer): ModuleList(\n",
       "            (0): T5LayerSelfAttention(\n",
       "              (SelfAttention): T5Attention(\n",
       "                (q): Linear(in_features=1024, out_features=1024, bias=False)\n",
       "                (k): Linear(in_features=1024, out_features=1024, bias=False)\n",
       "                (v): Linear(in_features=1024, out_features=1024, bias=False)\n",
       "                (o): Linear(in_features=1024, out_features=1024, bias=False)\n",
       "              )\n",
       "              (layer_norm): T5LayerNorm()\n",
       "              (dropout): Dropout(p=0.1, inplace=False)\n",
       "            )\n",
       "            (1): T5LayerFF(\n",
       "              (DenseReluDense): T5DenseActDense(\n",
       "                (wi): Linear(in_features=1024, out_features=4096, bias=False)\n",
       "                (wo): Linear(in_features=4096, out_features=1024, bias=False)\n",
       "                (dropout): Dropout(p=0.1, inplace=False)\n",
       "                (act): ReLU()\n",
       "              )\n",
       "              (layer_norm): T5LayerNorm()\n",
       "              (dropout): Dropout(p=0.1, inplace=False)\n",
       "            )\n",
       "          )\n",
       "        )\n",
       "      )\n",
       "      (final_layer_norm): T5LayerNorm()\n",
       "      (dropout): Dropout(p=0.1, inplace=False)\n",
       "    )\n",
       "  )\n",
       "  (linear1): Linear(in_features=524288, out_features=512, bias=True)\n",
       "  (linear2): Linear(in_features=512, out_features=9, bias=True)\n",
       "  (dropout1): Dropout(p=0.7, inplace=False)\n",
       "  (dropout2): Dropout(p=0.1, inplace=False)\n",
       ")"
      ]
     },
     "execution_count": 5,
     "metadata": {},
     "output_type": "execute_result"
    }
   ],
   "source": [
    "model"
   ]
  },
  {
   "cell_type": "code",
   "execution_count": null,
   "metadata": {},
   "outputs": [],
   "source": [
    "optimizer = optim.AdamW(model.parameters(), model.lr)"
   ]
  },
  {
   "cell_type": "code",
   "execution_count": null,
   "metadata": {},
   "outputs": [],
   "source": [
    "def tokenize_function(examples):\n",
    "    return model.tokenizer(\n",
    "        examples[\"text\"], padding=\"max_length\", max_length=512, truncation=True\n",
    "    )"
   ]
  },
  {
   "cell_type": "code",
   "execution_count": null,
   "metadata": {},
   "outputs": [],
   "source": [
    "train_ds, _ = load_dataset.load_dataset(\n",
    "    \"../German_newspaper_articles/10kGNAD/train.csv\",\n",
    "    \"../German_newspaper_articles/10kGNAD/test.csv\",\n",
    ")"
   ]
  },
  {
   "cell_type": "code",
   "execution_count": null,
   "metadata": {},
   "outputs": [],
   "source": [
    "train_ds = train_ds.map(tokenize_function)"
   ]
  },
  {
   "cell_type": "code",
   "execution_count": null,
   "metadata": {},
   "outputs": [],
   "source": [
    "train_ds = train_ds.map(load_dataset.add_label_id)"
   ]
  },
  {
   "cell_type": "code",
   "execution_count": null,
   "metadata": {},
   "outputs": [],
   "source": [
    "train_ds.set_format(\"torch\", device=device)\n",
    "model.to(device)"
   ]
  },
  {
   "cell_type": "code",
   "execution_count": null,
   "metadata": {},
   "outputs": [],
   "source": [
    "def eval(val_data):\n",
    "    model.eval()\n",
    "    correct = 0\n",
    "    all = 0\n",
    "    for data in val_data:\n",
    "        label_id = torch.unsqueeze(data[\"label_id\"], 0)\n",
    "\n",
    "        output = model(\n",
    "            torch.unsqueeze(data[\"input_ids\"], 0),\n",
    "            torch.unsqueeze(data[\"attention_mask\"], 0),\n",
    "        )\n",
    "        output = torch.argmax(output)\n",
    "\n",
    "        if label_id == output:\n",
    "            correct += 1\n",
    "        all += 1\n",
    "    print(f\"Eval accuracy: {(correct/all)*100:.2f}%\")\n",
    "    return (correct / all) * 100"
   ]
  },
  {
   "cell_type": "code",
   "execution_count": null,
   "metadata": {},
   "outputs": [],
   "source": [
    "batch_size = 8\n",
    "batch_index = 0\n",
    "running_loss = 0\n",
    "epochs = 10\n",
    "train_eval = train_ds.train_test_split(test_size=0.2, shuffle=True)\n",
    "loss_ls = []\n",
    "accuracy_ls = []\n",
    "start_time = time.perf_counter()\n",
    "for i in range(epochs):\n",
    "    print(f\"Epoch: {i}\")\n",
    "    train_eval = train_eval.shuffle()\n",
    "    for j in range(int(len(train_eval[\"train\"]) / batch_size)):\n",
    "        model.train()\n",
    "        batch = train_eval[\"train\"][batch_index : batch_index + batch_size]\n",
    "        batch_index += batch_size\n",
    "        optimizer.zero_grad()\n",
    "\n",
    "        output = model(batch[\"input_ids\"], batch[\"attention_mask\"])\n",
    "\n",
    "        loss = model.loss_fn(output, batch[\"label_id\"])\n",
    "        loss.backward()\n",
    "        if model.use_gradient_clip:\n",
    "            nn.utils.clip_grad_norm_(model.parameters(), 1.0)\n",
    "        optimizer.step()\n",
    "        running_loss += loss.item()\n",
    "        if j % 50 == 49:\n",
    "            print(f\"loss: {running_loss/50}\")\n",
    "            loss_ls.append(running_loss / 50)\n",
    "            running_loss = 0\n",
    "        if j % 200 == 199:\n",
    "            accuracy_ls.append(eval(train_eval[\"test\"]))\n",
    "\n",
    "    batch_index = 0\n",
    "\n",
    "end_time = time.perf_counter()\n",
    "duration = (end_time - start_time) / 60\n",
    "print(f\"Training took {duration:0.4f} minutes\")"
   ]
  },
  {
   "cell_type": "code",
   "execution_count": null,
   "metadata": {},
   "outputs": [],
   "source": [
    "metrics = {\"loss\": loss_ls, \"accuracy\": accuracy_ls}\n",
    "path_to_save_metrics = \"./t5_results/base/metrics\"\n",
    "with open(\n",
    "    path_to_save_metrics + f\"/metrics_{epochs}_epochs.csv\", \"w\", encoding=\"utf-8\"\n",
    ") as file:\n",
    "    file_writer = csv.DictWriter(file, fieldnames=metrics.keys())\n",
    "    file_writer.writeheader()\n",
    "    file_writer.writerow(metrics)"
   ]
  },
  {
   "cell_type": "code",
   "execution_count": null,
   "metadata": {},
   "outputs": [],
   "source": [
    "loss_steps = [(i + 1) * 50 for i in range(len(loss_ls))]\n",
    "accuracy_steps = [(i + 1) * 200 for i in range(len(accuracy_ls))]\n",
    "\n",
    "fig, ax1 = plt.subplots()\n",
    "\n",
    "ax2 = ax1.twinx()\n",
    "plt.gca().ticklabel_format(axis=\"both\", style=\"plain\", useOffset=False)\n",
    "ax1.plot(loss_steps, loss_ls, \"r-\")\n",
    "ax2.plot(accuracy_steps, accuracy_ls, \"g-\")\n",
    "ax1.set_xlabel(\"Steps\")\n",
    "ax1.set_ylabel(\"Loss\", color=\"r\")\n",
    "ax2.set_ylabel(\"Accuracy\", color=\"g\")\n",
    "\n",
    "plt.title(\"T5 base\")\n",
    "\n",
    "plt.savefig(path_to_save_metrics + \"/training.png\")\n",
    "plt.show()"
   ]
  },
  {
   "cell_type": "code",
   "execution_count": null,
   "metadata": {},
   "outputs": [],
   "source": [
    "path_to_model = \"../../../results/t5_results/encoder/model.nosync/model.pt\"\n",
    "torch.save(model, path_to_model)"
   ]
  }
 ],
 "metadata": {
  "kernelspec": {
   "display_name": ".venv.nosync",
   "language": "python",
   "name": "python3"
  },
  "language_info": {
   "codemirror_mode": {
    "name": "ipython",
    "version": 3
   },
   "file_extension": ".py",
   "mimetype": "text/x-python",
   "name": "python",
   "nbconvert_exporter": "python",
   "pygments_lexer": "ipython3",
   "version": "3.11.9"
  }
 },
 "nbformat": 4,
 "nbformat_minor": 2
}
